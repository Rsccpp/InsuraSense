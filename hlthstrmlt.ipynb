{
 "cells": [
  {
   "cell_type": "code",
   "execution_count": 2,
   "id": "a4740fed",
   "metadata": {},
   "outputs": [],
   "source": [
    "# Data handling and analysis\n",
    "\n",
    "import pandas as pd \n",
    "import numpy as np \n",
    "import matplotlib.pyplot as plt\n",
    "import seaborn as sns\n"
   ]
  },
  {
   "cell_type": "code",
   "execution_count": 3,
   "id": "647c3560",
   "metadata": {},
   "outputs": [],
   "source": [
    "# Reading the dataset\n",
    "\n",
    "df = pd.read_csv(\"premiums.csv\")"
   ]
  },
  {
   "cell_type": "code",
   "execution_count": 4,
   "id": "aeff23da",
   "metadata": {},
   "outputs": [
    {
     "data": {
      "text/html": [
       "<div>\n",
       "<style scoped>\n",
       "    .dataframe tbody tr th:only-of-type {\n",
       "        vertical-align: middle;\n",
       "    }\n",
       "\n",
       "    .dataframe tbody tr th {\n",
       "        vertical-align: top;\n",
       "    }\n",
       "\n",
       "    .dataframe thead th {\n",
       "        text-align: right;\n",
       "    }\n",
       "</style>\n",
       "<table border=\"1\" class=\"dataframe\">\n",
       "  <thead>\n",
       "    <tr style=\"text-align: right;\">\n",
       "      <th></th>\n",
       "      <th>Age</th>\n",
       "      <th>Gender</th>\n",
       "      <th>Region</th>\n",
       "      <th>Marital_status</th>\n",
       "      <th>Number Of Dependants</th>\n",
       "      <th>BMI_Category</th>\n",
       "      <th>Smoking_Status</th>\n",
       "      <th>Employment_Status</th>\n",
       "      <th>Income_Level</th>\n",
       "      <th>Income_Lakhs</th>\n",
       "      <th>Medical History</th>\n",
       "      <th>Insurance_Plan</th>\n",
       "      <th>Annual_Premium_Amount</th>\n",
       "    </tr>\n",
       "  </thead>\n",
       "  <tbody>\n",
       "    <tr>\n",
       "      <th>0</th>\n",
       "      <td>26</td>\n",
       "      <td>Male</td>\n",
       "      <td>Northwest</td>\n",
       "      <td>Unmarried</td>\n",
       "      <td>0</td>\n",
       "      <td>Normal</td>\n",
       "      <td>No Smoking</td>\n",
       "      <td>Salaried</td>\n",
       "      <td>&lt;10L</td>\n",
       "      <td>6</td>\n",
       "      <td>Diabetes</td>\n",
       "      <td>Bronze</td>\n",
       "      <td>9053</td>\n",
       "    </tr>\n",
       "    <tr>\n",
       "      <th>1</th>\n",
       "      <td>29</td>\n",
       "      <td>Female</td>\n",
       "      <td>Southeast</td>\n",
       "      <td>Married</td>\n",
       "      <td>2</td>\n",
       "      <td>Obesity</td>\n",
       "      <td>Regular</td>\n",
       "      <td>Salaried</td>\n",
       "      <td>&lt;10L</td>\n",
       "      <td>6</td>\n",
       "      <td>Diabetes</td>\n",
       "      <td>Bronze</td>\n",
       "      <td>16339</td>\n",
       "    </tr>\n",
       "    <tr>\n",
       "      <th>2</th>\n",
       "      <td>49</td>\n",
       "      <td>Female</td>\n",
       "      <td>Northeast</td>\n",
       "      <td>Married</td>\n",
       "      <td>2</td>\n",
       "      <td>Normal</td>\n",
       "      <td>No Smoking</td>\n",
       "      <td>Self-Employed</td>\n",
       "      <td>10L - 25L</td>\n",
       "      <td>20</td>\n",
       "      <td>High blood pressure</td>\n",
       "      <td>Silver</td>\n",
       "      <td>18164</td>\n",
       "    </tr>\n",
       "    <tr>\n",
       "      <th>3</th>\n",
       "      <td>30</td>\n",
       "      <td>Female</td>\n",
       "      <td>Southeast</td>\n",
       "      <td>Married</td>\n",
       "      <td>3</td>\n",
       "      <td>Normal</td>\n",
       "      <td>No Smoking</td>\n",
       "      <td>Salaried</td>\n",
       "      <td>&gt; 40L</td>\n",
       "      <td>77</td>\n",
       "      <td>No Disease</td>\n",
       "      <td>Gold</td>\n",
       "      <td>20303</td>\n",
       "    </tr>\n",
       "    <tr>\n",
       "      <th>4</th>\n",
       "      <td>18</td>\n",
       "      <td>Male</td>\n",
       "      <td>Northeast</td>\n",
       "      <td>Unmarried</td>\n",
       "      <td>0</td>\n",
       "      <td>Overweight</td>\n",
       "      <td>Regular</td>\n",
       "      <td>Self-Employed</td>\n",
       "      <td>&gt; 40L</td>\n",
       "      <td>99</td>\n",
       "      <td>High blood pressure</td>\n",
       "      <td>Silver</td>\n",
       "      <td>13365</td>\n",
       "    </tr>\n",
       "  </tbody>\n",
       "</table>\n",
       "</div>"
      ],
      "text/plain": [
       "   Age  Gender     Region Marital_status  Number Of Dependants BMI_Category  \\\n",
       "0   26    Male  Northwest      Unmarried                     0       Normal   \n",
       "1   29  Female  Southeast        Married                     2      Obesity   \n",
       "2   49  Female  Northeast        Married                     2       Normal   \n",
       "3   30  Female  Southeast        Married                     3       Normal   \n",
       "4   18    Male  Northeast      Unmarried                     0   Overweight   \n",
       "\n",
       "  Smoking_Status Employment_Status Income_Level  Income_Lakhs  \\\n",
       "0     No Smoking          Salaried         <10L             6   \n",
       "1        Regular          Salaried         <10L             6   \n",
       "2     No Smoking     Self-Employed    10L - 25L            20   \n",
       "3     No Smoking          Salaried        > 40L            77   \n",
       "4        Regular     Self-Employed        > 40L            99   \n",
       "\n",
       "       Medical History Insurance_Plan  Annual_Premium_Amount  \n",
       "0             Diabetes         Bronze                   9053  \n",
       "1             Diabetes         Bronze                  16339  \n",
       "2  High blood pressure         Silver                  18164  \n",
       "3           No Disease           Gold                  20303  \n",
       "4  High blood pressure         Silver                  13365  "
      ]
     },
     "execution_count": 4,
     "metadata": {},
     "output_type": "execute_result"
    }
   ],
   "source": [
    "# viewing top 5 rows\n",
    "\n",
    "df.head()\n"
   ]
  },
  {
   "cell_type": "code",
   "execution_count": 25,
   "id": "88813e11",
   "metadata": {},
   "outputs": [
    {
     "data": {
      "text/plain": [
       "array(['Normal', 'Obesity', 'Overweight', 'Underweight'], dtype=object)"
      ]
     },
     "execution_count": 25,
     "metadata": {},
     "output_type": "execute_result"
    }
   ],
   "source": [
    "# Different values of BMI\n",
    "bmi_values = df['BMI_Category'].unique()\n",
    "bmi_values"
   ]
  },
  {
   "cell_type": "code",
   "execution_count": 6,
   "id": "8f09eca1",
   "metadata": {},
   "outputs": [
    {
     "data": {
      "text/html": [
       "<div>\n",
       "<style scoped>\n",
       "    .dataframe tbody tr th:only-of-type {\n",
       "        vertical-align: middle;\n",
       "    }\n",
       "\n",
       "    .dataframe tbody tr th {\n",
       "        vertical-align: top;\n",
       "    }\n",
       "\n",
       "    .dataframe thead th {\n",
       "        text-align: right;\n",
       "    }\n",
       "</style>\n",
       "<table border=\"1\" class=\"dataframe\">\n",
       "  <thead>\n",
       "    <tr style=\"text-align: right;\">\n",
       "      <th></th>\n",
       "      <th>Age</th>\n",
       "      <th>Gender</th>\n",
       "      <th>Region</th>\n",
       "      <th>Marital_status</th>\n",
       "      <th>Number Of Dependants</th>\n",
       "      <th>BMI_Category</th>\n",
       "      <th>Smoking_Status</th>\n",
       "      <th>Employment_Status</th>\n",
       "      <th>Income_Level</th>\n",
       "      <th>Income_Lakhs</th>\n",
       "      <th>Medical History</th>\n",
       "      <th>Insurance_Plan</th>\n",
       "      <th>Annual_Premium_Amount</th>\n",
       "    </tr>\n",
       "  </thead>\n",
       "  <tbody>\n",
       "    <tr>\n",
       "      <th>49995</th>\n",
       "      <td>24</td>\n",
       "      <td>Female</td>\n",
       "      <td>Northwest</td>\n",
       "      <td>Unmarried</td>\n",
       "      <td>0</td>\n",
       "      <td>Underweight</td>\n",
       "      <td>No Smoking</td>\n",
       "      <td>Self-Employed</td>\n",
       "      <td>25L - 40L</td>\n",
       "      <td>35</td>\n",
       "      <td>No Disease</td>\n",
       "      <td>Bronze</td>\n",
       "      <td>9111</td>\n",
       "    </tr>\n",
       "    <tr>\n",
       "      <th>49996</th>\n",
       "      <td>47</td>\n",
       "      <td>Female</td>\n",
       "      <td>Southeast</td>\n",
       "      <td>Married</td>\n",
       "      <td>2</td>\n",
       "      <td>Normal</td>\n",
       "      <td>No Smoking</td>\n",
       "      <td>Salaried</td>\n",
       "      <td>&gt; 40L</td>\n",
       "      <td>82</td>\n",
       "      <td>Thyroid</td>\n",
       "      <td>Gold</td>\n",
       "      <td>27076</td>\n",
       "    </tr>\n",
       "    <tr>\n",
       "      <th>49997</th>\n",
       "      <td>21</td>\n",
       "      <td>Male</td>\n",
       "      <td>Northwest</td>\n",
       "      <td>Unmarried</td>\n",
       "      <td>0</td>\n",
       "      <td>Normal</td>\n",
       "      <td>Regular</td>\n",
       "      <td>Freelancer</td>\n",
       "      <td>25L - 40L</td>\n",
       "      <td>32</td>\n",
       "      <td>No Disease</td>\n",
       "      <td>Bronze</td>\n",
       "      <td>8564</td>\n",
       "    </tr>\n",
       "    <tr>\n",
       "      <th>49998</th>\n",
       "      <td>18</td>\n",
       "      <td>Male</td>\n",
       "      <td>Northwest</td>\n",
       "      <td>Unmarried</td>\n",
       "      <td>2</td>\n",
       "      <td>Normal</td>\n",
       "      <td>No Smoking</td>\n",
       "      <td>Salaried</td>\n",
       "      <td>10L - 25L</td>\n",
       "      <td>20</td>\n",
       "      <td>No Disease</td>\n",
       "      <td>Bronze</td>\n",
       "      <td>9490</td>\n",
       "    </tr>\n",
       "    <tr>\n",
       "      <th>49999</th>\n",
       "      <td>48</td>\n",
       "      <td>Female</td>\n",
       "      <td>Southwest</td>\n",
       "      <td>Married</td>\n",
       "      <td>3</td>\n",
       "      <td>Normal</td>\n",
       "      <td>Occasional</td>\n",
       "      <td>Self-Employed</td>\n",
       "      <td>&lt;10L</td>\n",
       "      <td>7</td>\n",
       "      <td>Diabetes</td>\n",
       "      <td>Silver</td>\n",
       "      <td>19730</td>\n",
       "    </tr>\n",
       "  </tbody>\n",
       "</table>\n",
       "</div>"
      ],
      "text/plain": [
       "       Age  Gender     Region Marital_status  Number Of Dependants  \\\n",
       "49995   24  Female  Northwest      Unmarried                     0   \n",
       "49996   47  Female  Southeast        Married                     2   \n",
       "49997   21    Male  Northwest      Unmarried                     0   \n",
       "49998   18    Male  Northwest      Unmarried                     2   \n",
       "49999   48  Female  Southwest        Married                     3   \n",
       "\n",
       "      BMI_Category Smoking_Status Employment_Status Income_Level  \\\n",
       "49995  Underweight     No Smoking     Self-Employed    25L - 40L   \n",
       "49996       Normal     No Smoking          Salaried        > 40L   \n",
       "49997       Normal        Regular        Freelancer    25L - 40L   \n",
       "49998       Normal     No Smoking          Salaried    10L - 25L   \n",
       "49999       Normal     Occasional     Self-Employed         <10L   \n",
       "\n",
       "       Income_Lakhs Medical History Insurance_Plan  Annual_Premium_Amount  \n",
       "49995            35      No Disease         Bronze                   9111  \n",
       "49996            82         Thyroid           Gold                  27076  \n",
       "49997            32      No Disease         Bronze                   8564  \n",
       "49998            20      No Disease         Bronze                   9490  \n",
       "49999             7        Diabetes         Silver                  19730  "
      ]
     },
     "execution_count": 6,
     "metadata": {},
     "output_type": "execute_result"
    }
   ],
   "source": [
    "df.tail()"
   ]
  },
  {
   "cell_type": "code",
   "execution_count": 7,
   "id": "26d22003",
   "metadata": {},
   "outputs": [
    {
     "data": {
      "text/html": [
       "<div>\n",
       "<style scoped>\n",
       "    .dataframe tbody tr th:only-of-type {\n",
       "        vertical-align: middle;\n",
       "    }\n",
       "\n",
       "    .dataframe tbody tr th {\n",
       "        vertical-align: top;\n",
       "    }\n",
       "\n",
       "    .dataframe thead th {\n",
       "        text-align: right;\n",
       "    }\n",
       "</style>\n",
       "<table border=\"1\" class=\"dataframe\">\n",
       "  <thead>\n",
       "    <tr style=\"text-align: right;\">\n",
       "      <th></th>\n",
       "      <th>Age</th>\n",
       "      <th>Gender</th>\n",
       "      <th>Region</th>\n",
       "      <th>Marital_status</th>\n",
       "      <th>Number Of Dependants</th>\n",
       "      <th>BMI_Category</th>\n",
       "      <th>Smoking_Status</th>\n",
       "      <th>Employment_Status</th>\n",
       "      <th>Income_Level</th>\n",
       "      <th>Income_Lakhs</th>\n",
       "      <th>Medical History</th>\n",
       "      <th>Insurance_Plan</th>\n",
       "      <th>Annual_Premium_Amount</th>\n",
       "    </tr>\n",
       "  </thead>\n",
       "  <tbody>\n",
       "    <tr>\n",
       "      <th>7014</th>\n",
       "      <td>21</td>\n",
       "      <td>Female</td>\n",
       "      <td>Southeast</td>\n",
       "      <td>Unmarried</td>\n",
       "      <td>2</td>\n",
       "      <td>Underweight</td>\n",
       "      <td>No Smoking</td>\n",
       "      <td>Salaried</td>\n",
       "      <td>25L - 40L</td>\n",
       "      <td>29</td>\n",
       "      <td>No Disease</td>\n",
       "      <td>Bronze</td>\n",
       "      <td>4570</td>\n",
       "    </tr>\n",
       "    <tr>\n",
       "      <th>37618</th>\n",
       "      <td>33</td>\n",
       "      <td>Male</td>\n",
       "      <td>Southeast</td>\n",
       "      <td>Married</td>\n",
       "      <td>3</td>\n",
       "      <td>Underweight</td>\n",
       "      <td>No Smoking</td>\n",
       "      <td>Salaried</td>\n",
       "      <td>&lt;10L</td>\n",
       "      <td>4</td>\n",
       "      <td>High blood pressure</td>\n",
       "      <td>Bronze</td>\n",
       "      <td>9167</td>\n",
       "    </tr>\n",
       "    <tr>\n",
       "      <th>35507</th>\n",
       "      <td>19</td>\n",
       "      <td>Male</td>\n",
       "      <td>Southeast</td>\n",
       "      <td>Married</td>\n",
       "      <td>3</td>\n",
       "      <td>Normal</td>\n",
       "      <td>Regular</td>\n",
       "      <td>Self-Employed</td>\n",
       "      <td>&lt;10L</td>\n",
       "      <td>7</td>\n",
       "      <td>No Disease</td>\n",
       "      <td>Silver</td>\n",
       "      <td>9617</td>\n",
       "    </tr>\n",
       "    <tr>\n",
       "      <th>48541</th>\n",
       "      <td>21</td>\n",
       "      <td>Male</td>\n",
       "      <td>Northeast</td>\n",
       "      <td>Unmarried</td>\n",
       "      <td>0</td>\n",
       "      <td>Normal</td>\n",
       "      <td>Regular</td>\n",
       "      <td>Salaried</td>\n",
       "      <td>&lt;10L</td>\n",
       "      <td>5</td>\n",
       "      <td>No Disease</td>\n",
       "      <td>Bronze</td>\n",
       "      <td>6492</td>\n",
       "    </tr>\n",
       "    <tr>\n",
       "      <th>7208</th>\n",
       "      <td>25</td>\n",
       "      <td>Female</td>\n",
       "      <td>Southwest</td>\n",
       "      <td>Unmarried</td>\n",
       "      <td>0</td>\n",
       "      <td>Normal</td>\n",
       "      <td>No Smoking</td>\n",
       "      <td>Freelancer</td>\n",
       "      <td>&lt;10L</td>\n",
       "      <td>1</td>\n",
       "      <td>Thyroid</td>\n",
       "      <td>Bronze</td>\n",
       "      <td>9826</td>\n",
       "    </tr>\n",
       "  </tbody>\n",
       "</table>\n",
       "</div>"
      ],
      "text/plain": [
       "       Age  Gender     Region Marital_status  Number Of Dependants  \\\n",
       "7014    21  Female  Southeast      Unmarried                     2   \n",
       "37618   33    Male  Southeast        Married                     3   \n",
       "35507   19    Male  Southeast        Married                     3   \n",
       "48541   21    Male  Northeast      Unmarried                     0   \n",
       "7208    25  Female  Southwest      Unmarried                     0   \n",
       "\n",
       "      BMI_Category Smoking_Status Employment_Status Income_Level  \\\n",
       "7014   Underweight     No Smoking          Salaried    25L - 40L   \n",
       "37618  Underweight     No Smoking          Salaried         <10L   \n",
       "35507       Normal        Regular     Self-Employed         <10L   \n",
       "48541       Normal        Regular          Salaried         <10L   \n",
       "7208        Normal     No Smoking        Freelancer         <10L   \n",
       "\n",
       "       Income_Lakhs      Medical History Insurance_Plan  Annual_Premium_Amount  \n",
       "7014             29           No Disease         Bronze                   4570  \n",
       "37618             4  High blood pressure         Bronze                   9167  \n",
       "35507             7           No Disease         Silver                   9617  \n",
       "48541             5           No Disease         Bronze                   6492  \n",
       "7208              1              Thyroid         Bronze                   9826  "
      ]
     },
     "execution_count": 7,
     "metadata": {},
     "output_type": "execute_result"
    }
   ],
   "source": [
    "# finding random rows in data set\n",
    "\n",
    "df.sample(5)"
   ]
  },
  {
   "cell_type": "code",
   "execution_count": 8,
   "id": "9f3124fb",
   "metadata": {},
   "outputs": [
    {
     "data": {
      "text/plain": [
       "(50000, 13)"
      ]
     },
     "execution_count": 8,
     "metadata": {},
     "output_type": "execute_result"
    }
   ],
   "source": [
    "# Shape of data-set\n",
    "df.shape"
   ]
  },
  {
   "cell_type": "code",
   "execution_count": 9,
   "id": "698418a0",
   "metadata": {},
   "outputs": [
    {
     "data": {
      "text/plain": [
       "Index(['Age', 'Number Of Dependants', 'Income_Lakhs', 'Annual_Premium_Amount'], dtype='object')"
      ]
     },
     "execution_count": 9,
     "metadata": {},
     "output_type": "execute_result"
    }
   ],
   "source": [
    "# Numerical column names\n",
    "\n",
    "df.select_dtypes(include=['number']).columns"
   ]
  },
  {
   "cell_type": "code",
   "execution_count": 10,
   "id": "7f1861a2",
   "metadata": {},
   "outputs": [
    {
     "data": {
      "text/plain": [
       "Index(['Gender', 'Region', 'Marital_status', 'BMI_Category', 'Smoking_Status',\n",
       "       'Employment_Status', 'Income_Level', 'Medical History',\n",
       "       'Insurance_Plan'],\n",
       "      dtype='object')"
      ]
     },
     "execution_count": 10,
     "metadata": {},
     "output_type": "execute_result"
    }
   ],
   "source": [
    "# Categorical column names\n",
    "df.select_dtypes(include=['object']).columns"
   ]
  },
  {
   "cell_type": "code",
   "execution_count": 11,
   "id": "2d77b3db",
   "metadata": {},
   "outputs": [
    {
     "data": {
      "text/plain": [
       "Age                       int64\n",
       "Gender                   object\n",
       "Region                   object\n",
       "Marital_status           object\n",
       "Number Of Dependants      int64\n",
       "BMI_Category             object\n",
       "Smoking_Status           object\n",
       "Employment_Status        object\n",
       "Income_Level             object\n",
       "Income_Lakhs              int64\n",
       "Medical History          object\n",
       "Insurance_Plan           object\n",
       "Annual_Premium_Amount     int64\n",
       "dtype: object"
      ]
     },
     "execution_count": 11,
     "metadata": {},
     "output_type": "execute_result"
    }
   ],
   "source": [
    "# DataTypes of columns\n",
    "df.dtypes"
   ]
  },
  {
   "cell_type": "code",
   "execution_count": 12,
   "id": "cc5747b3",
   "metadata": {},
   "outputs": [
    {
     "name": "stdout",
     "output_type": "stream",
     "text": [
      "<class 'pandas.core.frame.DataFrame'>\n",
      "RangeIndex: 50000 entries, 0 to 49999\n",
      "Data columns (total 13 columns):\n",
      " #   Column                 Non-Null Count  Dtype \n",
      "---  ------                 --------------  ----- \n",
      " 0   Age                    50000 non-null  int64 \n",
      " 1   Gender                 50000 non-null  object\n",
      " 2   Region                 50000 non-null  object\n",
      " 3   Marital_status         50000 non-null  object\n",
      " 4   Number Of Dependants   50000 non-null  int64 \n",
      " 5   BMI_Category           50000 non-null  object\n",
      " 6   Smoking_Status         49989 non-null  object\n",
      " 7   Employment_Status      49998 non-null  object\n",
      " 8   Income_Level           49987 non-null  object\n",
      " 9   Income_Lakhs           50000 non-null  int64 \n",
      " 10  Medical History        50000 non-null  object\n",
      " 11  Insurance_Plan         50000 non-null  object\n",
      " 12  Annual_Premium_Amount  50000 non-null  int64 \n",
      "dtypes: int64(4), object(9)\n",
      "memory usage: 5.0+ MB\n"
     ]
    }
   ],
   "source": [
    "# Dataset information\n",
    "df.info()"
   ]
  },
  {
   "cell_type": "code",
   "execution_count": 13,
   "id": "c832a4d9",
   "metadata": {},
   "outputs": [
    {
     "data": {
      "text/plain": [
       "Age                       0\n",
       "Gender                    0\n",
       "Region                    0\n",
       "Marital_status            0\n",
       "Number Of Dependants      0\n",
       "BMI_Category              0\n",
       "Smoking_Status           11\n",
       "Employment_Status         2\n",
       "Income_Level             13\n",
       "Income_Lakhs              0\n",
       "Medical History           0\n",
       "Insurance_Plan            0\n",
       "Annual_Premium_Amount     0\n",
       "dtype: int64"
      ]
     },
     "execution_count": 13,
     "metadata": {},
     "output_type": "execute_result"
    }
   ],
   "source": [
    "# Finding missing values\n",
    "missing_values = df.isnull().sum() \n",
    "missing_values "
   ]
  },
  {
   "cell_type": "code",
   "execution_count": 14,
   "id": "a373f9c1",
   "metadata": {},
   "outputs": [
    {
     "data": {
      "text/plain": [
       "np.int64(0)"
      ]
     },
     "execution_count": 14,
     "metadata": {},
     "output_type": "execute_result"
    }
   ],
   "source": [
    "# Finding duplicated rows\n",
    "df.duplicated().sum()"
   ]
  },
  {
   "cell_type": "code",
   "execution_count": 15,
   "id": "9844090e",
   "metadata": {},
   "outputs": [
    {
     "data": {
      "text/plain": [
       "Age                         60\n",
       "Gender                       2\n",
       "Region                       4\n",
       "Marital_status               2\n",
       "Number Of Dependants         8\n",
       "BMI_Category                 4\n",
       "Smoking_Status               6\n",
       "Employment_Status            3\n",
       "Income_Level                 4\n",
       "Income_Lakhs               110\n",
       "Medical History              9\n",
       "Insurance_Plan               3\n",
       "Annual_Premium_Amount    23183\n",
       "dtype: int64"
      ]
     },
     "execution_count": 15,
     "metadata": {},
     "output_type": "execute_result"
    }
   ],
   "source": [
    "# Finding Unique values count for each column\n",
    "df.nunique()"
   ]
  },
  {
   "cell_type": "code",
   "execution_count": 16,
   "id": "df0c3766",
   "metadata": {},
   "outputs": [
    {
     "name": "stdout",
     "output_type": "stream",
     "text": [
      "Unique values in Gender: ['Male' 'Female']\n",
      "Unique values in Region: ['Northwest' 'Southeast' 'Northeast' 'Southwest']\n",
      "Unique values in Marital_status: ['Unmarried' 'Married']\n",
      "Unique values in BMI_Category: ['Normal' 'Obesity' 'Overweight' 'Underweight']\n",
      "Unique values in Smoking_Status: ['No Smoking' 'Regular' 'Occasional' nan 'Smoking=0' 'Does Not Smoke'\n",
      " 'Not Smoking']\n",
      "Unique values in Employment_Status: ['Salaried' 'Self-Employed' 'Freelancer' nan]\n",
      "Unique values in Income_Level: ['<10L' '10L - 25L' '> 40L' '25L - 40L' nan]\n",
      "Unique values in Medical History: ['Diabetes' 'High blood pressure' 'No Disease'\n",
      " 'Diabetes & High blood pressure' 'Thyroid' 'Heart disease'\n",
      " 'High blood pressure & Heart disease' 'Diabetes & Thyroid'\n",
      " 'Diabetes & Heart disease']\n",
      "Unique values in Insurance_Plan: ['Bronze' 'Silver' 'Gold']\n"
     ]
    }
   ],
   "source": [
    "# Printing unique values in each column\n",
    "for col in df.select_dtypes(include=['object']).columns:\n",
    "    print(f\"Unique values in {col}: {df[col].unique()}\")"
   ]
  },
  {
   "cell_type": "code",
   "execution_count": 17,
   "id": "98f3511f",
   "metadata": {},
   "outputs": [
    {
     "data": {
      "text/html": [
       "<div>\n",
       "<style scoped>\n",
       "    .dataframe tbody tr th:only-of-type {\n",
       "        vertical-align: middle;\n",
       "    }\n",
       "\n",
       "    .dataframe tbody tr th {\n",
       "        vertical-align: top;\n",
       "    }\n",
       "\n",
       "    .dataframe thead th {\n",
       "        text-align: right;\n",
       "    }\n",
       "</style>\n",
       "<table border=\"1\" class=\"dataframe\">\n",
       "  <thead>\n",
       "    <tr style=\"text-align: right;\">\n",
       "      <th></th>\n",
       "      <th>Age</th>\n",
       "      <th>Number Of Dependants</th>\n",
       "      <th>Income_Lakhs</th>\n",
       "      <th>Annual_Premium_Amount</th>\n",
       "    </tr>\n",
       "  </thead>\n",
       "  <tbody>\n",
       "    <tr>\n",
       "      <th>count</th>\n",
       "      <td>50000.000000</td>\n",
       "      <td>50000.000000</td>\n",
       "      <td>50000.000000</td>\n",
       "      <td>50000.000000</td>\n",
       "    </tr>\n",
       "    <tr>\n",
       "      <th>mean</th>\n",
       "      <td>34.593480</td>\n",
       "      <td>1.712080</td>\n",
       "      <td>23.018200</td>\n",
       "      <td>15768.116320</td>\n",
       "    </tr>\n",
       "    <tr>\n",
       "      <th>std</th>\n",
       "      <td>15.000437</td>\n",
       "      <td>1.498248</td>\n",
       "      <td>24.219197</td>\n",
       "      <td>8419.839675</td>\n",
       "    </tr>\n",
       "    <tr>\n",
       "      <th>min</th>\n",
       "      <td>18.000000</td>\n",
       "      <td>-3.000000</td>\n",
       "      <td>1.000000</td>\n",
       "      <td>3501.000000</td>\n",
       "    </tr>\n",
       "    <tr>\n",
       "      <th>25%</th>\n",
       "      <td>22.000000</td>\n",
       "      <td>0.000000</td>\n",
       "      <td>7.000000</td>\n",
       "      <td>8608.000000</td>\n",
       "    </tr>\n",
       "    <tr>\n",
       "      <th>50%</th>\n",
       "      <td>31.000000</td>\n",
       "      <td>2.000000</td>\n",
       "      <td>17.000000</td>\n",
       "      <td>13929.000000</td>\n",
       "    </tr>\n",
       "    <tr>\n",
       "      <th>75%</th>\n",
       "      <td>45.000000</td>\n",
       "      <td>3.000000</td>\n",
       "      <td>31.000000</td>\n",
       "      <td>22275.250000</td>\n",
       "    </tr>\n",
       "    <tr>\n",
       "      <th>max</th>\n",
       "      <td>356.000000</td>\n",
       "      <td>5.000000</td>\n",
       "      <td>930.000000</td>\n",
       "      <td>43471.000000</td>\n",
       "    </tr>\n",
       "  </tbody>\n",
       "</table>\n",
       "</div>"
      ],
      "text/plain": [
       "                Age  Number Of Dependants  Income_Lakhs  Annual_Premium_Amount\n",
       "count  50000.000000          50000.000000  50000.000000           50000.000000\n",
       "mean      34.593480              1.712080     23.018200           15768.116320\n",
       "std       15.000437              1.498248     24.219197            8419.839675\n",
       "min       18.000000             -3.000000      1.000000            3501.000000\n",
       "25%       22.000000              0.000000      7.000000            8608.000000\n",
       "50%       31.000000              2.000000     17.000000           13929.000000\n",
       "75%       45.000000              3.000000     31.000000           22275.250000\n",
       "max      356.000000              5.000000    930.000000           43471.000000"
      ]
     },
     "execution_count": 17,
     "metadata": {},
     "output_type": "execute_result"
    }
   ],
   "source": [
    "\n",
    "# Summary statistics for numerical columns \n",
    "df.describe()"
   ]
  },
  {
   "cell_type": "code",
   "execution_count": 18,
   "id": "40717f90",
   "metadata": {},
   "outputs": [
    {
     "data": {
      "text/html": [
       "<div>\n",
       "<style scoped>\n",
       "    .dataframe tbody tr th:only-of-type {\n",
       "        vertical-align: middle;\n",
       "    }\n",
       "\n",
       "    .dataframe tbody tr th {\n",
       "        vertical-align: top;\n",
       "    }\n",
       "\n",
       "    .dataframe thead th {\n",
       "        text-align: right;\n",
       "    }\n",
       "</style>\n",
       "<table border=\"1\" class=\"dataframe\">\n",
       "  <thead>\n",
       "    <tr style=\"text-align: right;\">\n",
       "      <th></th>\n",
       "      <th>Gender</th>\n",
       "      <th>Region</th>\n",
       "      <th>Marital_status</th>\n",
       "      <th>BMI_Category</th>\n",
       "      <th>Smoking_Status</th>\n",
       "      <th>Employment_Status</th>\n",
       "      <th>Income_Level</th>\n",
       "      <th>Medical History</th>\n",
       "      <th>Insurance_Plan</th>\n",
       "    </tr>\n",
       "  </thead>\n",
       "  <tbody>\n",
       "    <tr>\n",
       "      <th>count</th>\n",
       "      <td>50000</td>\n",
       "      <td>50000</td>\n",
       "      <td>50000</td>\n",
       "      <td>50000</td>\n",
       "      <td>49989</td>\n",
       "      <td>49998</td>\n",
       "      <td>49987</td>\n",
       "      <td>50000</td>\n",
       "      <td>50000</td>\n",
       "    </tr>\n",
       "    <tr>\n",
       "      <th>unique</th>\n",
       "      <td>2</td>\n",
       "      <td>4</td>\n",
       "      <td>2</td>\n",
       "      <td>4</td>\n",
       "      <td>6</td>\n",
       "      <td>3</td>\n",
       "      <td>4</td>\n",
       "      <td>9</td>\n",
       "      <td>3</td>\n",
       "    </tr>\n",
       "    <tr>\n",
       "      <th>top</th>\n",
       "      <td>Male</td>\n",
       "      <td>Southeast</td>\n",
       "      <td>Unmarried</td>\n",
       "      <td>Normal</td>\n",
       "      <td>No Smoking</td>\n",
       "      <td>Salaried</td>\n",
       "      <td>&lt;10L</td>\n",
       "      <td>No Disease</td>\n",
       "      <td>Bronze</td>\n",
       "    </tr>\n",
       "    <tr>\n",
       "      <th>freq</th>\n",
       "      <td>27480</td>\n",
       "      <td>17520</td>\n",
       "      <td>25681</td>\n",
       "      <td>23511</td>\n",
       "      <td>27366</td>\n",
       "      <td>20968</td>\n",
       "      <td>18667</td>\n",
       "      <td>21177</td>\n",
       "      <td>21573</td>\n",
       "    </tr>\n",
       "  </tbody>\n",
       "</table>\n",
       "</div>"
      ],
      "text/plain": [
       "       Gender     Region Marital_status BMI_Category Smoking_Status  \\\n",
       "count   50000      50000          50000        50000          49989   \n",
       "unique      2          4              2            4              6   \n",
       "top      Male  Southeast      Unmarried       Normal     No Smoking   \n",
       "freq    27480      17520          25681        23511          27366   \n",
       "\n",
       "       Employment_Status Income_Level Medical History Insurance_Plan  \n",
       "count              49998        49987           50000          50000  \n",
       "unique                 3            4               9              3  \n",
       "top             Salaried         <10L      No Disease         Bronze  \n",
       "freq               20968        18667           21177          21573  "
      ]
     },
     "execution_count": 18,
     "metadata": {},
     "output_type": "execute_result"
    }
   ],
   "source": [
    "\n",
    "# Summary statistics for categorical columns \n",
    "df.describe(include=['object'])"
   ]
  },
  {
   "cell_type": "code",
   "execution_count": 19,
   "id": "49ca503f",
   "metadata": {},
   "outputs": [
    {
     "name": "stdout",
     "output_type": "stream",
     "text": [
      "value count of Gender\n",
      "Male      27480\n",
      "Female    22520\n",
      "Name: count, dtype: int64\n",
      "\n",
      "Class Distribution (Imbalance Check for Gender):\n",
      "Gender\n",
      "Male      54.96\n",
      "Female    45.04\n",
      "Name: proportion, dtype: float64\n"
     ]
    }
   ],
   "source": [
    "\n",
    "# Imbalance check and value count for 'gender' column \n",
    "gender_counts = df['Gender'].value_counts()\n",
    "\n",
    "print(\"value count of\",gender_counts)\n",
    "print(\"\\nClass Distribution (Imbalance Check for Gender):\")\n",
    "print(df['Gender'].value_counts(normalize=True) * 100)"
   ]
  },
  {
   "cell_type": "code",
   "execution_count": 20,
   "id": "85b2841c",
   "metadata": {},
   "outputs": [
    {
     "name": "stdout",
     "output_type": "stream",
     "text": [
      "value count of  Smoking_Status\n",
      "No Smoking        27366\n",
      "Regular           15686\n",
      "Occasional         6915\n",
      "Smoking=0             8\n",
      "Not Smoking           8\n",
      "Does Not Smoke        6\n",
      "Name: count, dtype: int64\n",
      "\n",
      "Class Distribution (Imbalance Check for Smoking_Status):\n",
      "Smoking_Status\n",
      "No Smoking        54.744044\n",
      "Regular           31.378903\n",
      "Occasional        13.833043\n",
      "Smoking=0          0.016004\n",
      "Not Smoking        0.016004\n",
      "Does Not Smoke     0.012003\n",
      "Name: proportion, dtype: float64\n"
     ]
    }
   ],
   "source": [
    "# imbalance check and value count for 'smoking_status' column \n",
    "\n",
    "smoking_status_counts = df['Smoking_Status'].value_counts()\n",
    "\n",
    "print(\"value count of \",smoking_status_counts)\n",
    "print(\"\\nClass Distribution (Imbalance Check for Smoking_Status):\")\n",
    "print(df['Smoking_Status'].value_counts(normalize=True) * 100)\n"
   ]
  },
  {
   "cell_type": "code",
   "execution_count": 21,
   "id": "68e1964a",
   "metadata": {},
   "outputs": [
    {
     "name": "stdout",
     "output_type": "stream",
     "text": [
      "Kurtosis of column : \n",
      "Age                       46.590177\n",
      "Number Of Dependants      -0.991685\n",
      "Income_Lakhs             155.676144\n",
      "Annual_Premium_Amount     -0.822499\n",
      "dtype: float64\n",
      "\n"
     ]
    }
   ],
   "source": [
    "\n",
    "# kurt Imbalance check for numerical columns \n",
    "\n",
    "numeric_columns = df.select_dtypes(include=['number'])\n",
    "for column in numeric_columns:\n",
    "    kurt = numeric_columns.kurt()\n",
    "print(f\"Kurtosis of column : \\n{kurt}\\n\")"
   ]
  },
  {
   "cell_type": "code",
   "execution_count": 22,
   "id": "a2025c2a",
   "metadata": {},
   "outputs": [
    {
     "data": {
      "image/png": "[encoded data removed]",
      "text/plain": [
       "<Figure size 1200x1000 with 4 Axes>"
      ]
     },
     "metadata": {},
     "output_type": "display_data"
    }
   ],
   "source": [
    "\n",
    "# Histogram for numerical columns \n",
    "\n",
    "df.hist(figsize=(12, 10), bins=30)\n",
    "plt.suptitle(\"Feature Distributions\", fontsize=16)\n",
    "plt.show()\n",
    "     "
   ]
  },
  {
   "cell_type": "code",
   "execution_count": 23,
   "id": "27603b5d",
   "metadata": {},
   "outputs": [
    {
     "name": "stderr",
     "output_type": "stream",
     "text": [
      "C:\\Users\\rohit\\AppData\\Local\\Temp\\ipykernel_2340\\4174797197.py:7: FutureWarning: \n",
      "\n",
      "Passing `palette` without assigning `hue` is deprecated and will be removed in v0.14.0. Assign the `x` variable to `hue` and set `legend=False` for the same effect.\n",
      "\n",
      "  sns.countplot(data=df, x=col, palette=\"Set2\")\n",
      "C:\\Users\\rohit\\AppData\\Local\\Temp\\ipykernel_2340\\4174797197.py:7: FutureWarning: \n",
      "\n",
      "Passing `palette` without assigning `hue` is deprecated and will be removed in v0.14.0. Assign the `x` variable to `hue` and set `legend=False` for the same effect.\n",
      "\n",
      "  sns.countplot(data=df, x=col, palette=\"Set2\")\n",
      "C:\\Users\\rohit\\AppData\\Local\\Temp\\ipykernel_2340\\4174797197.py:7: FutureWarning: \n",
      "\n",
      "Passing `palette` without assigning `hue` is deprecated and will be removed in v0.14.0. Assign the `x` variable to `hue` and set `legend=False` for the same effect.\n",
      "\n",
      "  sns.countplot(data=df, x=col, palette=\"Set2\")\n"
     ]
    },
    {
     "ename": "ValueError",
     "evalue": "num must be an integer with 1 <= num <= 3, not 4",
     "output_type": "error",
     "traceback": [
      "\u001b[31m---------------------------------------------------------------------------\u001b[39m",
      "\u001b[31mValueError\u001b[39m                                Traceback (most recent call last)",
      "\u001b[36mCell\u001b[39m\u001b[36m \u001b[39m\u001b[32mIn[23]\u001b[39m\u001b[32m, line 6\u001b[39m\n\u001b[32m      4\u001b[39m plt.figure(figsize=(\u001b[32m12\u001b[39m, \u001b[32m5\u001b[39m))\n\u001b[32m      5\u001b[39m \u001b[38;5;28;01mfor\u001b[39;00m i, col \u001b[38;5;129;01min\u001b[39;00m \u001b[38;5;28menumerate\u001b[39m(categorical_features, \u001b[32m1\u001b[39m):\n\u001b[32m----> \u001b[39m\u001b[32m6\u001b[39m     \u001b[43mplt\u001b[49m\u001b[43m.\u001b[49m\u001b[43msubplot\u001b[49m\u001b[43m(\u001b[49m\u001b[32;43m1\u001b[39;49m\u001b[43m,\u001b[49m\u001b[43m \u001b[49m\u001b[32;43m3\u001b[39;49m\u001b[43m,\u001b[49m\u001b[43m \u001b[49m\u001b[43mi\u001b[49m\u001b[43m)\u001b[49m\n\u001b[32m      7\u001b[39m     sns.countplot(data=df, x=col, palette=\u001b[33m\"\u001b[39m\u001b[33mSet2\u001b[39m\u001b[33m\"\u001b[39m)\n\u001b[32m      8\u001b[39m     plt.title(\u001b[33mf\u001b[39m\u001b[33m\"\u001b[39m\u001b[33mDistribution of \u001b[39m\u001b[38;5;132;01m{\u001b[39;00mcol\u001b[38;5;132;01m}\u001b[39;00m\u001b[33m\"\u001b[39m)\n",
      "\u001b[36mFile \u001b[39m\u001b[32mc:\\Users\\rohit\\AppData\\Local\\Programs\\Python\\Python311\\Lib\\site-packages\\matplotlib\\pyplot.py:1544\u001b[39m, in \u001b[36msubplot\u001b[39m\u001b[34m(*args, **kwargs)\u001b[39m\n\u001b[32m   1541\u001b[39m fig = gcf()\n\u001b[32m   1543\u001b[39m \u001b[38;5;66;03m# First, search for an existing subplot with a matching spec.\u001b[39;00m\n\u001b[32m-> \u001b[39m\u001b[32m1544\u001b[39m key = \u001b[43mSubplotSpec\u001b[49m\u001b[43m.\u001b[49m\u001b[43m_from_subplot_args\u001b[49m\u001b[43m(\u001b[49m\u001b[43mfig\u001b[49m\u001b[43m,\u001b[49m\u001b[43m \u001b[49m\u001b[43margs\u001b[49m\u001b[43m)\u001b[49m\n\u001b[32m   1546\u001b[39m \u001b[38;5;28;01mfor\u001b[39;00m ax \u001b[38;5;129;01min\u001b[39;00m fig.axes:\n\u001b[32m   1547\u001b[39m     \u001b[38;5;66;03m# If we found an Axes at the position, we can reuse it if the user passed no\u001b[39;00m\n\u001b[32m   1548\u001b[39m     \u001b[38;5;66;03m# kwargs or if the Axes class and kwargs are identical.\u001b[39;00m\n\u001b[32m   1549\u001b[39m     \u001b[38;5;28;01mif\u001b[39;00m (ax.get_subplotspec() == key\n\u001b[32m   1550\u001b[39m         \u001b[38;5;129;01mand\u001b[39;00m (kwargs == {}\n\u001b[32m   1551\u001b[39m              \u001b[38;5;129;01mor\u001b[39;00m (ax._projection_init\n\u001b[32m   1552\u001b[39m                  == fig._process_projection_requirements(**kwargs)))):\n",
      "\u001b[36mFile \u001b[39m\u001b[32mc:\\Users\\rohit\\AppData\\Local\\Programs\\Python\\Python311\\Lib\\site-packages\\matplotlib\\gridspec.py:589\u001b[39m, in \u001b[36mSubplotSpec._from_subplot_args\u001b[39m\u001b[34m(figure, args)\u001b[39m\n\u001b[32m    587\u001b[39m \u001b[38;5;28;01melse\u001b[39;00m:\n\u001b[32m    588\u001b[39m     \u001b[38;5;28;01mif\u001b[39;00m \u001b[38;5;129;01mnot\u001b[39;00m \u001b[38;5;28misinstance\u001b[39m(num, Integral) \u001b[38;5;129;01mor\u001b[39;00m num < \u001b[32m1\u001b[39m \u001b[38;5;129;01mor\u001b[39;00m num > rows*cols:\n\u001b[32m--> \u001b[39m\u001b[32m589\u001b[39m         \u001b[38;5;28;01mraise\u001b[39;00m \u001b[38;5;167;01mValueError\u001b[39;00m(\n\u001b[32m    590\u001b[39m             \u001b[33mf\u001b[39m\u001b[33m\"\u001b[39m\u001b[33mnum must be an integer with 1 <= num <= \u001b[39m\u001b[38;5;132;01m{\u001b[39;00mrows*cols\u001b[38;5;132;01m}\u001b[39;00m\u001b[33m, \u001b[39m\u001b[33m\"\u001b[39m\n\u001b[32m    591\u001b[39m             \u001b[33mf\u001b[39m\u001b[33m\"\u001b[39m\u001b[33mnot \u001b[39m\u001b[38;5;132;01m{\u001b[39;00mnum\u001b[38;5;132;01m!r}\u001b[39;00m\u001b[33m\"\u001b[39m\n\u001b[32m    592\u001b[39m         )\n\u001b[32m    593\u001b[39m     i = j = num\n\u001b[32m    594\u001b[39m \u001b[38;5;28;01mreturn\u001b[39;00m gs[i-\u001b[32m1\u001b[39m:j]\n",
      "\u001b[31mValueError\u001b[39m: num must be an integer with 1 <= num <= 3, not 4"
     ]
    },
    {
     "data": {
      "image/png": "[encoded data removed]",
      "text/plain": [
       "<Figure size 1200x500 with 3 Axes>"
      ]
     },
     "metadata": {},
     "output_type": "display_data"
    }
   ],
   "source": [
    "\n",
    "# Countplot for categorical variables \n",
    "\n",
    "categorical_features = df.describe(include=['object'])\n",
    "plt.figure(figsize=(12, 5))\n",
    "for i, col in enumerate(categorical_features, 1):\n",
    "    plt.subplot(1, 3, i)\n",
    "    sns.countplot(data=df, x=col, palette=\"Set2\")\n",
    "    plt.title(f\"Distribution of {col}\")\n",
    "    plt.xticks()\n",
    "plt.tight_layout()\n",
    "plt.show()\n"
   ]
  },
  {
   "cell_type": "code",
   "execution_count": null,
   "id": "802194e1",
   "metadata": {},
   "outputs": [
    {
     "name": "stderr",
     "output_type": "stream",
     "text": [
      "C:\\Users\\rohit\\AppData\\Local\\Temp\\ipykernel_22276\\3076553900.py:6: FutureWarning: \n",
      "\n",
      "Passing `palette` without assigning `hue` is deprecated and will be removed in v0.14.0. Assign the `x` variable to `hue` and set `legend=False` for the same effect.\n",
      "\n",
      "  sns.boxplot(data=df, y=col, palette=\"Set2\")\n",
      "C:\\Users\\rohit\\AppData\\Local\\Temp\\ipykernel_22276\\3076553900.py:6: FutureWarning: \n",
      "\n",
      "Passing `palette` without assigning `hue` is deprecated and will be removed in v0.14.0. Assign the `x` variable to `hue` and set `legend=False` for the same effect.\n",
      "\n",
      "  sns.boxplot(data=df, y=col, palette=\"Set2\")\n",
      "C:\\Users\\rohit\\AppData\\Local\\Temp\\ipykernel_22276\\3076553900.py:6: FutureWarning: \n",
      "\n",
      "Passing `palette` without assigning `hue` is deprecated and will be removed in v0.14.0. Assign the `x` variable to `hue` and set `legend=False` for the same effect.\n",
      "\n",
      "  sns.boxplot(data=df, y=col, palette=\"Set2\")\n",
      "C:\\Users\\rohit\\AppData\\Local\\Temp\\ipykernel_22276\\3076553900.py:6: FutureWarning: \n",
      "\n",
      "Passing `palette` without assigning `hue` is deprecated and will be removed in v0.14.0. Assign the `x` variable to `hue` and set `legend=False` for the same effect.\n",
      "\n",
      "  sns.boxplot(data=df, y=col, palette=\"Set2\")\n"
     ]
    },
    {
     "data": {
      "image/png": "[encoded data removed]",
      "text/plain": [
       "<Figure size 1200x800 with 4 Axes>"
      ]
     },
     "metadata": {},
     "output_type": "display_data"
    }
   ],
   "source": [
    "# Boxplot for numerical features to check for outliers\n",
    "\n",
    "plt.figure(figsize=(12, 8))\n",
    "for i, col in enumerate(numeric_columns, 1):\n",
    "    plt.subplot(3, 3, i)\n",
    "    sns.boxplot(data=df, y=col, palette=\"Set2\")\n",
    "    plt.title(f\"Boxplot of {col}\")\n",
    "    plt.ylabel(\"\")\n",
    "plt.tight_layout()\n",
    "plt.show()\n",
    "     "
   ]
  },
  {
   "cell_type": "code",
   "execution_count": null,
   "id": "893dd90e",
   "metadata": {},
   "outputs": [
    {
     "data": {
      "image/png": "[encoded data removed]",
      "text/plain": [
       "<Figure size 600x400 with 2 Axes>"
      ]
     },
     "metadata": {},
     "output_type": "display_data"
    }
   ],
   "source": [
    "# Correlation matrix (only for numerical features) \n",
    "\n",
    "plt.figure(figsize=(6,4))\n",
    "sns.heatmap(df.select_dtypes(include=['number']).corr(), annot=True, cmap=\"coolwarm\", fmt=\".2f\", linewidths=0.5)\n",
    "plt.title(\"Correlation Matrix\")\n",
    "plt.show()"
   ]
  },
  {
   "cell_type": "markdown",
   "id": "b37aff8b",
   "metadata": {},
   "source": [
    "# Techniques used:\n",
    "* Correlation matrix to find feature relationships.\n",
    "* Boxplot for outliners.\n",
    "* Histograms for variable distribution.\n",
    "* Countplot for categorical variables."
   ]
  },
  {
   "cell_type": "markdown",
   "id": "bbbdb617",
   "metadata": {},
   "source": [
    "# Data Preprocessing or Data Cleaning"
   ]
  },
  {
   "cell_type": "code",
   "execution_count": null,
   "id": "e95236f9",
   "metadata": {},
   "outputs": [
    {
     "name": "stdout",
     "output_type": "stream",
     "text": [
      "Shape before removing duplicates: (50000, 13)\n",
      "Number of duplicate rows: 0\n",
      "Number of duplicate columns: 0\n"
     ]
    }
   ],
   "source": [
    "\n",
    "# Remove duplicate rows and verification of duplicate removal with help of size \n",
    "\n",
    "print(\"Shape before removing duplicates:\", df.shape)\n",
    "print(\"Number of duplicate rows:\", df.duplicated().sum())\n",
    "print(\"Number of duplicate columns:\", df.columns.duplicated().sum())\n",
    "\n",
    "# Conculsion: There is no duplicate rows or columns in the dataset.\n",
    "# Hence, no need to remove duplicates.\n"
   ]
  },
  {
   "cell_type": "code",
   "execution_count": null,
   "id": "2eb748e2",
   "metadata": {},
   "outputs": [
    {
     "name": "stdout",
     "output_type": "stream",
     "text": [
      "Missing values in each imputation:\n",
      "Age                       0\n",
      "Gender                    0\n",
      "Region                    0\n",
      "Marital_status            0\n",
      "Number Of Dependants      0\n",
      "BMI_Category              0\n",
      "Smoking_Status           11\n",
      "Employment_Status         2\n",
      "Income_Level             13\n",
      "Income_Lakhs              0\n",
      "Medical History           0\n",
      "Insurance_Plan            0\n",
      "Annual_Premium_Amount     0\n",
      "dtype: int64\n"
     ]
    }
   ],
   "source": [
    "\n",
    "# Handling Missing Values \n",
    "\n",
    "print(\"Missing values in each imputation:\")  \n",
    "print(df.isnull().sum())"
   ]
  },
  {
   "cell_type": "code",
   "execution_count": null,
   "id": "ac834b06",
   "metadata": {},
   "outputs": [],
   "source": [
    "\n",
    "# Creating separate copies for different imputation techniques \n",
    "\n",
    "df_mean = df.copy()\n",
    "df_mode = df.copy()\n",
    "df_median = df.copy()\n",
    "df_interpolation = df.copy()\n",
    "df_ffill = df.copy()\n",
    "df_bfill = df.copy()"
   ]
  },
  {
   "cell_type": "code",
   "execution_count": null,
   "id": "f99bb8d0",
   "metadata": {},
   "outputs": [
    {
     "name": "stdout",
     "output_type": "stream",
     "text": [
      "Null-values in Numerical columns are: Age                      0\n",
      "Number Of Dependants     0\n",
      "Income_Lakhs             0\n",
      "Annual_Premium_Amount    0\n",
      "dtype: int64\n"
     ]
    }
   ],
   "source": [
    "# Retreving Numerical Columns \n",
    "\n",
    "numcols=df.select_dtypes(include=['number']).columns\n",
    "numcols\n",
    "print(\"Null-values in Numerical columns are:\",df[numcols].isnull().sum())\n",
    "\n",
    "# no null values in numerical columns, hence no need to impute numerical columns"
   ]
  },
  {
   "cell_type": "code",
   "execution_count": null,
   "id": "f95b8efc",
   "metadata": {},
   "outputs": [
    {
     "data": {
      "text/plain": [
       "Index(['Gender', 'Region', 'Marital_status', 'BMI_Category', 'Smoking_Status',\n",
       "       'Employment_Status', 'Income_Level', 'Medical History',\n",
       "       'Insurance_Plan'],\n",
       "      dtype='object')"
      ]
     },
     "execution_count": 111,
     "metadata": {},
     "output_type": "execute_result"
    }
   ],
   "source": [
    "# Retreving categorical columns \n",
    "\n",
    "catcols=df.select_dtypes(include=['object']).columns\n",
    "catcols"
   ]
  },
  {
   "cell_type": "code",
   "execution_count": null,
   "id": "0cd93f9a",
   "metadata": {},
   "outputs": [
    {
     "name": "stdout",
     "output_type": "stream",
     "text": [
      "Missing values after mode imputation:\n",
      "Age                      0\n",
      "Gender                   0\n",
      "Region                   0\n",
      "Marital_status           0\n",
      "Number Of Dependants     0\n",
      "BMI_Category             0\n",
      "Smoking_Status           0\n",
      "Employment_Status        0\n",
      "Income_Level             0\n",
      "Income_Lakhs             0\n",
      "Medical History          0\n",
      "Insurance_Plan           0\n",
      "Annual_Premium_Amount    0\n",
      "dtype: int64\n"
     ]
    }
   ],
   "source": [
    "\n",
    "# Mode Imputation (For categorical columns) \n",
    "\n",
    "for col in catcols:\n",
    "    mode_val = df_mode[col].mode()[0]\n",
    "    df_mode[col] = df_mode[col].fillna(mode_val)\n",
    "# Checking for null-values after mode imputation on categorical columns.\n",
    "print(\"Missing values after mode imputation:\")\n",
    "print(df_mode.isnull().sum())"
   ]
  },
  {
   "cell_type": "code",
   "execution_count": null,
   "id": "e2562c8b",
   "metadata": {},
   "outputs": [
    {
     "data": {
      "text/plain": [
       "Index([], dtype='int64')"
      ]
     },
     "execution_count": 113,
     "metadata": {},
     "output_type": "execute_result"
    }
   ],
   "source": [
    "# checking for null index's of BMI column before imputation \n",
    "\n",
    "BMInull_indexes  = df_interpolation[df_interpolation['BMI_Category'].isnull()].index\n",
    "BMInull_indexes"
   ]
  },
  {
   "cell_type": "code",
   "execution_count": null,
   "id": "3ee3d771",
   "metadata": {},
   "outputs": [],
   "source": [
    "# Conclusion: There are no null numberical or categorical columns in the dataset.\n",
    "# Hence, no need to impute any columns."
   ]
  },
  {
   "cell_type": "code",
   "execution_count": null,
   "id": "c3cf9957",
   "metadata": {},
   "outputs": [],
   "source": []
  },
  {
   "cell_type": "code",
   "execution_count": null,
   "id": "0f039bb2",
   "metadata": {},
   "outputs": [],
   "source": []
  },
  {
   "cell_type": "code",
   "execution_count": null,
   "id": "7d09ab50",
   "metadata": {},
   "outputs": [],
   "source": []
  },
  {
   "cell_type": "code",
   "execution_count": null,
   "id": "8e7d8541",
   "metadata": {},
   "outputs": [],
   "source": []
  },
  {
   "cell_type": "code",
   "execution_count": null,
   "id": "1b4a62f7",
   "metadata": {},
   "outputs": [],
   "source": []
  },
  {
   "cell_type": "code",
   "execution_count": null,
   "id": "e8f3e33e",
   "metadata": {},
   "outputs": [],
   "source": []
  },
  {
   "cell_type": "code",
   "execution_count": null,
   "id": "163e6550",
   "metadata": {},
   "outputs": [],
   "source": []
  },
  {
   "cell_type": "code",
   "execution_count": null,
   "id": "824921c9",
   "metadata": {},
   "outputs": [],
   "source": []
  },
  {
   "cell_type": "code",
   "execution_count": null,
   "id": "7e6dd4e3",
   "metadata": {},
   "outputs": [],
   "source": []
  }
 ],
 "metadata": {
  "kernelspec": {
   "display_name": "Python 3",
   "language": "python",
   "name": "python3"
  },
  "language_info": {
   "codemirror_mode": {
    "name": "ipython",
    "version": 3
   },
   "file_extension": ".py",
   "mimetype": "text/x-python",
   "name": "python",
   "nbconvert_exporter": "python",
   "pygments_lexer": "ipython3",
   "version": "3.11.4"
  }
 },
 "nbformat": 4,
 "nbformat_minor": 5
}
